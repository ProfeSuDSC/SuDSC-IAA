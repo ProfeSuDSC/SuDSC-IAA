{
  "cells": [
    {
      "cell_type": "markdown",
      "metadata": {
        "id": "xQpJbPX5xwyd"
      },
      "source": [
        "# **# CLASIFICACION BINARIA **\n",
        "\n",
        "# 2. Clasificación con el Algoritmo del Perceptrón\n",
        "\n",
        "Implementaremos una versión básica del algoritmo del perceptrón para clasificación binaria.\n",
        "\n",
        "En este caso los datos de entrada serán de **dos dimensiones**."
      ]
    },
    {
      "cell_type": "code",
      "execution_count": null,
      "metadata": {
        "id": "r85suRMyxwyl"
      },
      "outputs": [],
      "source": [
        "import numpy as np\n",
        "import matplotlib.pyplot as plt"
      ]
    },
    {
      "cell_type": "code",
      "execution_count": null,
      "metadata": {
        "id": "deTawayIxwym"
      },
      "outputs": [],
      "source": [
        "import numpy as np\n",
        "np.set_printoptions(suppress=True)  # no usar notacion \"e\" PORQUE NO LA USA?"
      ]
    },
    {
      "cell_type": "markdown",
      "metadata": {
        "id": "QcKeTsHkxwyn"
      },
      "source": [
        "## Datos\n",
        "\n",
        "Usaremos scikit-learn ([make_classification](https://scikit-learn.org/stable/modules/generated/sklearn.datasets.make_classification.html)) para generar datos aleatorios de dos dimensiones, divididos en dos clases etiquetadas con los valores 1 y -1.\n",
        "\n",
        "Los datos serán linealmente separables. ***Fijamos la semilla aleatoria para obtener siempre los mismos resultados*** *texto en cursiva*."
      ]
    },
    {
      "cell_type": "code",
      "execution_count": null,
      "metadata": {
        "id": "sfWHbdRqxwyo"
      },
      "outputs": [],
      "source": [
        "from sklearn.datasets import make_classification\n",
        "\n",
        "size = 100\n",
        "X, y_true = make_classification(n_samples=size, n_features=2, n_classes=2,\n",
        "                                   n_redundant=0, n_informative=2,\n",
        "                                   n_clusters_per_class=1, class_sep=0.5,\n",
        "                                   random_state=1)\n",
        "y_true[y_true == 0] = -1"
      ]
    },
    {
      "cell_type": "code",
      "execution_count": null,
      "metadata": {
        "colab": {
          "base_uri": "https://localhost:8080/"
        },
        "id": "bMEQNLJHxwyp",
        "outputId": "1a2307b9-7822-443a-95ab-a21772db562c"
      },
      "outputs": [
        {
          "output_type": "execute_result",
          "data": {
            "text/plain": [
              "(100, 2)"
            ]
          },
          "metadata": {},
          "execution_count": 4
        }
      ],
      "source": [
        "X.shape"
      ]
    },
    {
      "cell_type": "code",
      "execution_count": null,
      "metadata": {
        "colab": {
          "base_uri": "https://localhost:8080/"
        },
        "id": "HNpm1_o1xwyq",
        "outputId": "233eb8fc-f522-4f8b-c1b2-2a5ca8a62426"
      },
      "outputs": [
        {
          "output_type": "execute_result",
          "data": {
            "text/plain": [
              "(100,)"
            ]
          },
          "metadata": {},
          "execution_count": 5
        }
      ],
      "source": [
        "y_true.shape"
      ]
    },
    {
      "cell_type": "markdown",
      "metadata": {
        "id": "jx5avZ_nxwyr"
      },
      "source": [
        "Graficamos para ver el resultado. Acá, los azules son 1, los rojos -1."
      ]
    },
    {
      "cell_type": "code",
      "execution_count": null,
      "metadata": {
        "colab": {
          "base_uri": "https://localhost:8080/",
          "height": 430
        },
        "id": "l7Aoel6zxwyr",
        "outputId": "8b66ce4e-dbc4-4266-c643-aa3e442a102d"
      },
      "outputs": [
        {
          "output_type": "display_data",
          "data": {
            "text/plain": [
              "<Figure size 640x480 with 1 Axes>"
            ],
            "image/png": "[encoded data removed]"
          },
          "metadata": {}
        }
      ],
      "source": [
        "plt.scatter(X[y_true==1, 0], X[y_true==1, 1], color=\"royalblue\", label=\"1\")\n",
        "plt.scatter(X[y_true==-1, 0], X[y_true==-1, 1], color=\"red\", label=\"-1\")\n",
        "plt.legend()\n",
        "plt.show()"
      ]
    },
    {
      "cell_type": "markdown",
      "metadata": {
        "id": "ZrScFR-Kxwys"
      },
      "source": [
        "### División en Entrenamiento y Evaluación"
      ]
    },
    {
      "cell_type": "code",
      "execution_count": null,
      "metadata": {
        "id": "PkaeSDqjxwys"
      },
      "outputs": [],
      "source": [
        "train_size = 60\n",
        "val_size = size - train_size\n",
        "X_train, X_val = X[:train_size], X[train_size:]\n",
        "y_train, y_val = y_true[:train_size], y_true[train_size:]"
      ]
    },
    {
      "cell_type": "code",
      "execution_count": null,
      "metadata": {
        "colab": {
          "base_uri": "https://localhost:8080/"
        },
        "id": "bf5VGjgixwyt",
        "outputId": "4d9b5168-8567-4e4e-b7a0-7024d8e17d6b"
      },
      "outputs": [
        {
          "output_type": "execute_result",
          "data": {
            "text/plain": [
              "((60, 2), (40, 2))"
            ]
          },
          "metadata": {},
          "execution_count": 8
        }
      ],
      "source": [
        "X_train.shape, X_val.shape"
      ]
    },
    {
      "cell_type": "markdown",
      "metadata": {
        "id": "qSR1U2Ixxwyt"
      },
      "source": [
        "## Algoritmo del Perceptrón"
      ]
    },
    {
      "cell_type": "markdown",
      "metadata": {
        "id": "OtzU7m2Uxwyt"
      },
      "source": [
        "### Inicialización\n",
        "\n",
        "Comenzamos a partir de un vector cualquiera:"
      ]
    },
    {
      "cell_type": "code",
      "execution_count": null,
      "metadata": {
        "id": "Au6v84-Wxwyt"
      },
      "outputs": [],
      "source": [
        "w =np.ones(2)"
      ]
    },
    {
      "cell_type": "code",
      "execution_count": null,
      "metadata": {
        "colab": {
          "base_uri": "https://localhost:8080/"
        },
        "id": "llkwFMOjxwyu",
        "outputId": "deeca2b7-6e53-4e5d-dd2a-259cfac16e27"
      },
      "outputs": [
        {
          "output_type": "execute_result",
          "data": {
            "text/plain": [
              "array([1., 1.])"
            ]
          },
          "metadata": {},
          "execution_count": 10
        }
      ],
      "source": [
        "w"
      ]
    },
    {
      "cell_type": "markdown",
      "metadata": {
        "id": "MkNBF5Jsxwyu"
      },
      "source": [
        "### Predicción\n",
        "\n",
        "Definimos la función de predicción:"
      ]
    },
    {
      "cell_type": "code",
      "execution_count": null,
      "metadata": {
        "id": "dXtzNF13xwyu"
      },
      "outputs": [],
      "source": [
        "def predict(X, w):\n",
        "    return np.sign(np.dot(X, w))"
      ]
    },
    {
      "cell_type": "markdown",
      "metadata": {
        "id": "3dJWA5LFxwyu"
      },
      "source": [
        "Probamos predecir con el primer modelo:"
      ]
    },
    {
      "cell_type": "code",
      "execution_count": null,
      "metadata": {
        "colab": {
          "base_uri": "https://localhost:8080/"
        },
        "id": "LeR7CKSIxwyv",
        "outputId": "da56c33a-2765-4b8e-c858-ef47c98ef726"
      },
      "outputs": [
        {
          "output_type": "execute_result",
          "data": {
            "text/plain": [
              "array([ 1.,  1., -1.,  1.,  1., -1.,  1.,  1.,  1.,  1.,  1.,  1.,  1.,\n",
              "       -1., -1., -1.,  1.,  1., -1., -1.,  1.,  1.,  1., -1., -1., -1.,\n",
              "        1.,  1., -1., -1.,  1., -1.,  1.,  1., -1.,  1., -1., -1.,  1.,\n",
              "        1.])"
            ]
          },
          "metadata": {},
          "execution_count": 12
        }
      ],
      "source": [
        "y_pred = predict(X_val, w)\n",
        "y_pred"
      ]
    },
    {
      "cell_type": "code",
      "execution_count": null,
      "metadata": {
        "colab": {
          "base_uri": "https://localhost:8080/"
        },
        "id": "mpFD4kS2xwyv",
        "outputId": "d013cc73-1cfb-4eae-b1e2-57248f487338"
      },
      "outputs": [
        {
          "output_type": "execute_result",
          "data": {
            "text/plain": [
              "array([-1, -1,  1, -1, -1,  1, -1, -1, -1,  1, -1, -1, -1,  1,  1,  1, -1,\n",
              "        1,  1,  1, -1, -1, -1,  1,  1,  1, -1,  1,  1,  1, -1,  1, -1, -1,\n",
              "        1, -1,  1,  1, -1,  1])"
            ]
          },
          "metadata": {},
          "execution_count": 13
        }
      ],
      "source": [
        "y_val"
      ]
    },
    {
      "cell_type": "markdown",
      "metadata": {
        "id": "8OgEblV_xwyv"
      },
      "source": [
        "### Evaluación\n",
        "\n",
        "Calcularemos la \"accuracy\" sobre los datos de evaluación."
      ]
    },
    {
      "cell_type": "code",
      "execution_count": null,
      "metadata": {
        "id": "jA2-u_OUxwyw"
      },
      "outputs": [],
      "source": [
        "def accuracy(y_true, y_pred):\n",
        "    return (y_true == y_pred).sum() / y_true.shape[0]"
      ]
    },
    {
      "cell_type": "code",
      "execution_count": null,
      "metadata": {
        "colab": {
          "base_uri": "https://localhost:8080/"
        },
        "id": "YrIf7IcYxwyw",
        "outputId": "9ae5f910-0e29-435e-c06a-b765cc0d687d"
      },
      "outputs": [
        {
          "output_type": "execute_result",
          "data": {
            "text/plain": [
              "0.1"
            ]
          },
          "metadata": {},
          "execution_count": 15
        }
      ],
      "source": [
        "accuracy(y_val, y_pred)"
      ]
    },
    {
      "cell_type": "code",
      "source": [
        "!pip install utils #luego de instalar miniconda logro instalar utils para usarla\n",
        "!apt-get -qq install -y utils"
      ],
      "metadata": {
        "colab": {
          "base_uri": "https://localhost:8080/"
        },
        "id": "FLXBwN6-w4JM",
        "outputId": "d4ffe413-48ad-412b-ac66-4c2a1403d393"
      },
      "execution_count": null,
      "outputs": [
        {
          "output_type": "stream",
          "name": "stdout",
          "text": [
            "Looking in indexes: https://pypi.org/simple, https://us-python.pkg.dev/colab-wheels/public/simple/\n",
            "Collecting utils\n",
            "  Downloading utils-1.0.1-py2.py3-none-any.whl (21 kB)\n",
            "Installing collected packages: utils\n",
            "Successfully installed utils-1.0.1\n",
            "E: Unable to locate package utils\n"
          ]
        }
      ]
    },
    {
      "cell_type": "markdown",
      "metadata": {
        "id": "8Iv6-2Lwxwyx"
      },
      "source": [
        "En este caso el resultado es muy bajo.\n",
        "\n",
        "Graficamos la frontera de decisión:"
      ]
    },
    {
      "cell_type": "code",
      "execution_count": null,
      "metadata": {
        "colab": {
          "base_uri": "https://localhost:8080/",
          "height": 391
        },
        "id": "hTqLBmwnxwyx",
        "outputId": "1032426b-1e87-4d1e-af99-b42ed5058dd4"
      },
      "outputs": [
        {
          "output_type": "error",
          "ename": "ImportError",
          "evalue": "ignored",
          "traceback": [
            "\u001b[0;31m---------------------------------------------------------------------------\u001b[0m",
            "\u001b[0;31mImportError\u001b[0m                               Traceback (most recent call last)",
            "\u001b[0;32m<ipython-input-17-321cb3a37824>\u001b[0m in \u001b[0;36m<cell line: 1>\u001b[0;34m()\u001b[0m\n\u001b[0;32m----> 1\u001b[0;31m \u001b[0;32mfrom\u001b[0m \u001b[0mutils\u001b[0m \u001b[0;32mimport\u001b[0m \u001b[0mplot_decision_boundary\u001b[0m \u001b[0;31m#PARA GRAFICAR FRONTERA DE DECISION\u001b[0m\u001b[0;34m\u001b[0m\u001b[0;34m\u001b[0m\u001b[0m\n\u001b[0m\u001b[1;32m      2\u001b[0m \u001b[0;32mdef\u001b[0m \u001b[0mpredfun\u001b[0m\u001b[0;34m(\u001b[0m\u001b[0mx\u001b[0m\u001b[0;34m)\u001b[0m\u001b[0;34m:\u001b[0m\u001b[0;34m\u001b[0m\u001b[0;34m\u001b[0m\u001b[0m\n\u001b[1;32m      3\u001b[0m     \u001b[0;32mreturn\u001b[0m \u001b[0mpredict\u001b[0m\u001b[0;34m(\u001b[0m\u001b[0mx\u001b[0m\u001b[0;34m,\u001b[0m \u001b[0mw\u001b[0m\u001b[0;34m)\u001b[0m\u001b[0;34m\u001b[0m\u001b[0;34m\u001b[0m\u001b[0m\n\u001b[1;32m      4\u001b[0m \u001b[0;34m\u001b[0m\u001b[0m\n\u001b[1;32m      5\u001b[0m plot_decision_boundary(predfun, \n",
            "\u001b[0;31mImportError\u001b[0m: cannot import name 'plot_decision_boundary' from 'utils' (/usr/local/lib/python3.10/dist-packages/utils/__init__.py)",
            "",
            "\u001b[0;31m---------------------------------------------------------------------------\u001b[0;32m\nNOTE: If your import is failing due to a missing package, you can\nmanually install dependencies using either !pip or !apt.\n\nTo view examples of installing some common dependencies, click the\n\"Open Examples\" button below.\n\u001b[0;31m---------------------------------------------------------------------------\u001b[0m\n"
          ],
          "errorDetails": {
            "actions": [
              {
                "action": "open_url",
                "actionText": "Open Examples",
                "url": "/notebooks/snippets/importing_libraries.ipynb"
              }
            ]
          }
        }
      ],
      "source": [
        "from utils import plot_decision_boundary #PARA GRAFICAR FRONTERA DE DECISION\n",
        "def predfun(x):\n",
        "    return predict(x, w)\n",
        "    \n",
        "plot_decision_boundary(predfun, \n",
        "                       X, \n",
        "                       y_true)"
      ]
    },
    {
      "cell_type": "code",
      "source": [],
      "metadata": {
        "id": "FrLDwG3Mu5Ea"
      },
      "execution_count": null,
      "outputs": []
    },
    {
      "cell_type": "markdown",
      "metadata": {
        "id": "Ux6SkZUaxwyx"
      },
      "source": [
        "### Un Paso del Algoritmo"
      ]
    },
    {
      "cell_type": "markdown",
      "metadata": {
        "id": "GcebM1wTxwyy"
      },
      "source": [
        "Primero debemos buscar un elemento de entrenamiento mal clasificado:"
      ]
    },
    {
      "cell_type": "code",
      "execution_count": null,
      "metadata": {
        "id": "bGreOCqFxwyy"
      },
      "outputs": [],
      "source": [
        "y_pred = predict(X_train, w)"
      ]
    },
    {
      "cell_type": "code",
      "execution_count": null,
      "metadata": {
        "id": "VSmazxbMxwyy"
      },
      "outputs": [],
      "source": [
        "y_pred"
      ]
    },
    {
      "cell_type": "code",
      "execution_count": null,
      "metadata": {
        "id": "Tqnx3HVFxwyy"
      },
      "outputs": [],
      "source": [
        "np.where(y_train != y_pred)"
      ]
    },
    {
      "cell_type": "code",
      "execution_count": null,
      "metadata": {
        "id": "7t01XINPxwyz"
      },
      "outputs": [],
      "source": [
        "y_train[0], y_pred[0]"
      ]
    },
    {
      "cell_type": "markdown",
      "metadata": {
        "id": "uxRgMCbixwyz"
      },
      "source": [
        "Tomamos el primero:"
      ]
    },
    {
      "cell_type": "code",
      "execution_count": null,
      "metadata": {
        "id": "wy-Y4wiFxwyz"
      },
      "outputs": [],
      "source": [
        "i = 0\n",
        "xi, yi = X_train[i], y_train[i]"
      ]
    },
    {
      "cell_type": "code",
      "execution_count": null,
      "metadata": {
        "id": "6T5bm3Vsxwyz"
      },
      "outputs": [],
      "source": [
        "xi.shape  # qué da?"
      ]
    },
    {
      "cell_type": "markdown",
      "metadata": {
        "id": "bj17fl6Yxwyz"
      },
      "source": [
        "Verificamos que la clasificación es incorrecta:"
      ]
    },
    {
      "cell_type": "code",
      "execution_count": null,
      "metadata": {
        "id": "vReHBeg3xwy0"
      },
      "outputs": [],
      "source": [
        "yi_pred = predict(xi, w)\n",
        "yi, yi_pred"
      ]
    },
    {
      "cell_type": "markdown",
      "metadata": {
        "id": "1nFJgI04xwy0"
      },
      "source": [
        "Probemos graficar el punto:"
      ]
    },
    {
      "cell_type": "code",
      "execution_count": null,
      "metadata": {
        "id": "TgVH7AsIxwy0"
      },
      "outputs": [],
      "source": [
        "y2 = np.ones(size)\n",
        "y2[i] = -1\n",
        "plot_decision_boundary(lambda x: predict(x, w), X, y2)"
      ]
    },
    {
      "cell_type": "markdown",
      "metadata": {
        "id": "0UDAp8DuxwzA"
      },
      "source": [
        "Ahora actualicemos el modelo y veamos si se corrige la clasificación:"
      ]
    },
    {
      "cell_type": "code",
      "execution_count": null,
      "metadata": {
        "id": "6NPprivJxwzB"
      },
      "outputs": [],
      "source": [
        "r = 1.0  # learning rate\n",
        "new_w = w + r * xi * yi\n",
        "predict(xi, new_w)"
      ]
    },
    {
      "cell_type": "markdown",
      "metadata": {
        "id": "YzEokD3ZxwzC"
      },
      "source": [
        "Probemos otras tasas de aprendizaje, a ver qué pasa:"
      ]
    },
    {
      "cell_type": "code",
      "execution_count": null,
      "metadata": {
        "id": "T2guh8zzxwzC"
      },
      "outputs": [],
      "source": [
        "for r in [0.001, 0.01, 0.1, 0.5, 1.0]:\n",
        "    new_w = w + r * xi * yi\n",
        "    print(r, predict(xi, new_w))"
      ]
    },
    {
      "cell_type": "markdown",
      "metadata": {
        "id": "JoNbj2JyxwzD"
      },
      "source": [
        "Lo dejamos en $r=1$. Evaluemos el nuevo modelo, para ver si mejora el resultado:"
      ]
    },
    {
      "cell_type": "code",
      "execution_count": null,
      "metadata": {
        "id": "_M5zrxbjxwzD"
      },
      "outputs": [],
      "source": [
        "y_pred = predict(X_val, new_w)\n",
        "accuracy(y_val, y_pred)"
      ]
    },
    {
      "cell_type": "code",
      "execution_count": null,
      "metadata": {
        "id": "2Y1yukUQxwzE"
      },
      "outputs": [],
      "source": [
        "plot_decision_boundary(lambda x: predict(x, new_w), X, y_true)"
      ]
    },
    {
      "cell_type": "code",
      "execution_count": null,
      "metadata": {
        "id": "Ilp2nODrxwzE"
      },
      "outputs": [],
      "source": [
        "new_w"
      ]
    },
    {
      "cell_type": "markdown",
      "metadata": {
        "id": "t4RxnOjgxwzE"
      },
      "source": [
        "## Perceptrón: Algoritmo completo\n",
        "\n",
        "Implementaremos el algoritmo completo, iterando hasta que todos los datos de entrenamiento estén clasificados correctamente:"
      ]
    },
    {
      "cell_type": "code",
      "execution_count": null,
      "metadata": {
        "id": "fJeLGNS4xwzF"
      },
      "outputs": [],
      "source": [
        "w = np.ones(2)\n",
        "\n",
        "r = 0.5  # qué pasaría\n",
        "step = 0\n",
        "finished = False\n",
        "while not finished:\n",
        "    # 1. predecir usando el modelo actual\n",
        "    y_pred = predict(X_train, w)\n",
        "    y_val_pred = predict(X_val, w)\n",
        "    \n",
        "    # 2. evaluar\n",
        "    train_acc = accuracy(y_train, y_pred)\n",
        "    val_acc = accuracy(y_val, y_val_pred)\n",
        "    print(f'step={step}\\ttrain_acc={train_acc:0.2}\\tval_acc={val_acc:0.2}')\n",
        "\n",
        "    # 3. si no clasifica todo bien, actualizar modelo\n",
        "    if (y_train == y_pred).all():\n",
        "        finished = True\n",
        "    else:\n",
        "        indices = np.where(y_train != y_pred)\n",
        "        i = indices[0][0]\n",
        "        xi, yi = X_train[i], y_train[i]\n",
        "        w = w + r * xi * yi\n",
        "        \n",
        "        step = step + 1"
      ]
    },
    {
      "cell_type": "markdown",
      "metadata": {
        "id": "Td1sIqb9xwzF"
      },
      "source": [
        "Grafiquemos el resultado final:"
      ]
    },
    {
      "cell_type": "code",
      "execution_count": null,
      "metadata": {
        "id": "iTdb1O4RxwzG"
      },
      "outputs": [],
      "source": [
        "    plot_decision_boundary(lambda x: predict(x, w), X, y_true)"
      ]
    },
    {
      "cell_type": "code",
      "execution_count": null,
      "metadata": {
        "id": "sYEi8FPmxwzG"
      },
      "outputs": [],
      "source": [
        "w"
      ]
    },
    {
      "cell_type": "markdown",
      "metadata": {
        "id": "F6z1eqsXxwzH"
      },
      "source": [
        "## Ejercicios\n",
        "\n",
        "1. Experimentar con otras tasas de aprendizaje.\n",
        "2. Generar datos no linealmente separables (probar achicando el valor de 'class_sep' en 'make_classification').\n",
        "3. Adaptar el algoritmo del perceptrón para que funcione con estos datos (ver variante \"pocket\" en [Wikipedia](https://en.wikipedia.org/wiki/Perceptron)).\n",
        "4. Hacer todo con el perceptrón de Scikit-learn ([Perceptron](https://scikit-learn.org/stable/modules/linear_model.html#perceptron))."
      ]
    },
    {
      "cell_type": "markdown",
      "metadata": {
        "id": "cEX5tBfcxwzH"
      },
      "source": [
        "## Referencias\n",
        "\n",
        "- [Perceptron (Wikipedia)](https://en.wikipedia.org/wiki/Perceptron)\n",
        "- [Perceptron Learning Algorithm: A Graphical Explanation Of Why It Works](https://towardsdatascience.com/perceptron-learning-algorithm-d5db0deab975)\n",
        "- Gallant, S. I. (1990). [Perceptron-based learning algorithms.](https://ftp.cs.nyu.edu/~roweis/csc2515-2006/readings/gallant.pdf) IEEE Transactions on Neural Networks, vol. 1, no. 2, pp. 179–191. \n",
        "\n",
        "Scikit-learn:\n",
        "\n",
        "- [make_classification](https://scikit-learn.org/stable/modules/generated/sklearn.datasets.make_classification.html)\n",
        "- [Perceptron](https://scikit-learn.org/stable/modules/linear_model.html#perceptron)\n"
      ]
    }
  ],
  "metadata": {
    "kernelspec": {
      "display_name": "Python 3 (ipykernel)",
      "language": "python",
      "name": "python3"
    },
    "language_info": {
      "codemirror_mode": {
        "name": "ipython",
        "version": 3
      },
      "file_extension": ".py",
      "mimetype": "text/x-python",
      "name": "python",
      "nbconvert_exporter": "python",
      "pygments_lexer": "ipython3",
      "version": "3.9.12"
    },
    "colab": {
      "provenance": []
    }
  },
  "nbformat": 4,
  "nbformat_minor": 0
}